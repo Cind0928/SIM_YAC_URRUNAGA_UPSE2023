{
  "nbformat": 4,
  "nbformat_minor": 0,
  "metadata": {
    "colab": {
      "provenance": [],
      "authorship_tag": "ABX9TyMRdxdfCZV0C4TmuzaBie1x",
      "include_colab_link": true
    },
    "kernelspec": {
      "name": "python3",
      "display_name": "Python 3"
    },
    "language_info": {
      "name": "python"
    }
  },
  "cells": [
    {
      "cell_type": "markdown",
      "metadata": {
        "id": "view-in-github",
        "colab_type": "text"
      },
      "source": [
        "<a href=\"https://colab.research.google.com/github/Cind0928/SIM_YAC_URRUNAGA_UPSE2023/blob/main/Metodo_implicito.ipynb\" target=\"_parent\"><img src=\"https://colab.research.google.com/assets/colab-badge.svg\" alt=\"Open In Colab\"/></a>"
      ]
    },
    {
      "cell_type": "code",
      "execution_count": 16,
      "metadata": {
        "id": "ktmVPgv9Ow7U"
      },
      "outputs": [],
      "source": [
        "import numpy  as np\n",
        "import math"
      ]
    },
    {
      "cell_type": "code",
      "source": [
        "L=300000\n",
        "dx=5000\n",
        "Tiempo=100\n",
        "DT=1\n",
        "K=50 #Permeabilidad MD\n",
        "por=0.5\n",
        "vis=1 # centipoise\n",
        "Beta=0.7\n",
        "CompTotal=1*10**(-5) #ps1-1\n",
        "A=200000#ft^2"
      ],
      "metadata": {
        "id": "l_U3zvkgO3aI"
      },
      "execution_count": 17,
      "outputs": []
    },
    {
      "cell_type": "code",
      "source": [
        "Alpha=K/(vis*por*CompTotal)\n",
        "Alpha\n",
        "Eta=(Alpha*DT)/(dx**2)\n",
        "Eta"
      ],
      "metadata": {
        "colab": {
          "base_uri": "https://localhost:8080/"
        },
        "id": "R5LPApMQO9OU",
        "outputId": "5c12768b-64cf-4fbb-88c8-7f741652f1d9"
      },
      "execution_count": 18,
      "outputs": [
        {
          "output_type": "execute_result",
          "data": {
            "text/plain": [
              "0.4"
            ]
          },
          "metadata": {},
          "execution_count": 18
        }
      ]
    },
    {
      "cell_type": "code",
      "source": [
        "#Condiciones inicialea\n",
        "Pyac=5\n",
        "Piz=0\n",
        "Pder=0\n",
        "Pin=np.ones((L//dx)+2)\n",
        "Qres=np.zeros((L//dx))\n",
        "Pres=np.zeros((L//dx)+2)\n",
        "Pin=Pin*Pyac\n",
        "Pin[0]=2*Piz-Pin[1]\n",
        "Pin[len(Pin)-1]=2*Pder-Pin[len(Pin)-2]\n",
        "\n",
        "Pin.shape"
      ],
      "metadata": {
        "colab": {
          "base_uri": "https://localhost:8080/"
        },
        "id": "xt5ImEiWPF0X",
        "outputId": "1ceb4e3f-718e-42be-909b-cf6f06508678"
      },
      "execution_count": 19,
      "outputs": [
        {
          "output_type": "execute_result",
          "data": {
            "text/plain": [
              "(62,)"
            ]
          },
          "metadata": {},
          "execution_count": 19
        }
      ]
    },
    {
      "cell_type": "code",
      "source": [
        "#Esquema Implicito\n",
        "Pimplicita=np.zeros((Tiempo//DT,(L//dx)+2))\n",
        "Qimplicita=np.zeros((Tiempo//DT,(L//dx)))\n",
        "Pres=np.zeros((L//dx)+2)\n",
        "Pin=np.ones((L//dx)+2)\n",
        "Pin=Pin*Pyac\n",
        "Pin[0]=Piz\n",
        "Pin[len(Pin)-1]=Pder\n",
        "N=(L//dx)+2\n",
        "Baccumul=A*dx*por*CompTotal/Beta\n",
        "Transmisibilidad=(K*A/(vis*Beta*dx))*6.33*10**-3\n",
        "B=np.zeros([N-2,N-2])\n",
        "T=np.zeros([N-2,N-2])\n",
        "Transmisibilidad\n"
      ],
      "metadata": {
        "colab": {
          "base_uri": "https://localhost:8080/"
        },
        "id": "Ii5JBxjHPNOm",
        "outputId": "9266b7c0-ac9a-4cee-8153-80152c1c2f02"
      },
      "execution_count": 20,
      "outputs": [
        {
          "output_type": "execute_result",
          "data": {
            "text/plain": [
              "18.085714285714285"
            ]
          },
          "metadata": {},
          "execution_count": 20
        }
      ]
    },
    {
      "cell_type": "code",
      "source": [
        "for i in range(0,N-2):\n",
        "  B[i,i]=Baccumul\n",
        "\n",
        "\n",
        "for i in range(0,N-2):\n",
        "  T[i,i]=2*Transmisibilidad\n",
        "  if i>0:\n",
        "    T[i,i-1]=-Transmisibilidad\n",
        "  if i<(N-3):\n",
        "    T[i,i+1]=-Transmisibilidad\n",
        "#T[0,0]=3*Transmisibilidad\n",
        "T[0,0]=2*Transmisibilidad\n",
        "T[N-3,N-3]=2*Transmisibilidad\n"
      ],
      "metadata": {
        "id": "LnHqOHviPTuu"
      },
      "execution_count": 21,
      "outputs": []
    },
    {
      "cell_type": "code",
      "source": [
        "Matriz_resolucion=np.zeros_like(T)\n",
        "Vector_sol=np.zeros_like(Pin[1:-1])\n",
        "Matriz_resolucion=T+(B/DT)\n",
        "Vector_sol=np.matmul(B/DT,Pin[1:-1])\n",
        "#Pres=[]\n",
        "\n",
        "Q=np.zeros_like(Vector_sol)\n",
        "Q[0]=2*Transmisibilidad*Piz\n",
        "Vector_sol=Vector_sol+Q\n",
        "Vector_sol\n",
        "Transmisibilidad"
      ],
      "metadata": {
        "colab": {
          "base_uri": "https://localhost:8080/"
        },
        "id": "wMyThMVGPbtH",
        "outputId": "15790cfe-61aa-49b4-faba-687d70dcf137"
      },
      "execution_count": 22,
      "outputs": [
        {
          "output_type": "execute_result",
          "data": {
            "text/plain": [
              "18.085714285714285"
            ]
          },
          "metadata": {},
          "execution_count": 22
        }
      ]
    },
    {
      "cell_type": "code",
      "source": [
        "Pcal=np.linalg.solve(Matriz_resolucion,Vector_sol)"
      ],
      "metadata": {
        "id": "_SERT0OdPkT8"
      },
      "execution_count": 23,
      "outputs": []
    },
    {
      "cell_type": "code",
      "source": [
        "Pcal"
      ],
      "metadata": {
        "colab": {
          "base_uri": "https://localhost:8080/"
        },
        "id": "n2EsuWIZPwUO",
        "outputId": "e172b990-7101-471c-b06e-74e1f9dd1c11"
      },
      "execution_count": 24,
      "outputs": [
        {
          "output_type": "execute_result",
          "data": {
            "text/plain": [
              "array([4.98740371, 4.99996827, 4.99999992, 5.        , 5.        ,\n",
              "       5.        , 5.        , 5.        , 5.        , 5.        ,\n",
              "       5.        , 5.        , 5.        , 5.        , 5.        ,\n",
              "       5.        , 5.        , 5.        , 5.        , 5.        ,\n",
              "       5.        , 5.        , 5.        , 5.        , 5.        ,\n",
              "       5.        , 5.        , 5.        , 5.        , 5.        ,\n",
              "       5.        , 5.        , 5.        , 5.        , 5.        ,\n",
              "       5.        , 5.        , 5.        , 5.        , 5.        ,\n",
              "       5.        , 5.        , 5.        , 5.        , 5.        ,\n",
              "       5.        , 5.        , 5.        , 5.        , 5.        ,\n",
              "       5.        , 5.        , 5.        , 5.        , 5.        ,\n",
              "       5.        , 5.        , 4.99999992, 4.99996827, 4.98740371])"
            ]
          },
          "metadata": {},
          "execution_count": 24
        }
      ]
    },
    {
      "cell_type": "code",
      "source": [
        "Vector_sol"
      ],
      "metadata": {
        "colab": {
          "base_uri": "https://localhost:8080/"
        },
        "id": "BV-YJAeHP6Mi",
        "outputId": "b4924e0c-7e4e-4e28-f986-62381a6e5199"
      },
      "execution_count": 25,
      "outputs": [
        {
          "output_type": "execute_result",
          "data": {
            "text/plain": [
              "array([35714.28571429, 35714.28571429, 35714.28571429, 35714.28571429,\n",
              "       35714.28571429, 35714.28571429, 35714.28571429, 35714.28571429,\n",
              "       35714.28571429, 35714.28571429, 35714.28571429, 35714.28571429,\n",
              "       35714.28571429, 35714.28571429, 35714.28571429, 35714.28571429,\n",
              "       35714.28571429, 35714.28571429, 35714.28571429, 35714.28571429,\n",
              "       35714.28571429, 35714.28571429, 35714.28571429, 35714.28571429,\n",
              "       35714.28571429, 35714.28571429, 35714.28571429, 35714.28571429,\n",
              "       35714.28571429, 35714.28571429, 35714.28571429, 35714.28571429,\n",
              "       35714.28571429, 35714.28571429, 35714.28571429, 35714.28571429,\n",
              "       35714.28571429, 35714.28571429, 35714.28571429, 35714.28571429,\n",
              "       35714.28571429, 35714.28571429, 35714.28571429, 35714.28571429,\n",
              "       35714.28571429, 35714.28571429, 35714.28571429, 35714.28571429,\n",
              "       35714.28571429, 35714.28571429, 35714.28571429, 35714.28571429,\n",
              "       35714.28571429, 35714.28571429, 35714.28571429, 35714.28571429,\n",
              "       35714.28571429, 35714.28571429, 35714.28571429, 35714.28571429])"
            ]
          },
          "metadata": {},
          "execution_count": 25
        }
      ]
    },
    {
      "cell_type": "code",
      "source": [
        "Qimplicita[0]=Q\n",
        "t=DT\n",
        "while t<Tiempo:\n",
        "  Pcal=np.linalg.solve(Matriz_resolucion,Vector_sol)\n",
        "  Pres=np.concatenate(([Piz],Pcal,[Pder]))\n",
        "  Pimplicita[t//DT]=Pres\n",
        "  Vector_sol=np.matmul(B/DT,Pcal)+Q\n",
        "  Qimplicita[t//DT]=Vector_sol\n",
        "  t=t+DT"
      ],
      "metadata": {
        "id": "C3XfPh5rQJs6"
      },
      "execution_count": 26,
      "outputs": []
    },
    {
      "cell_type": "code",
      "source": [
        "import matplotlib.pyplot as plt\n",
        "\n",
        "imgplot = plt.imshow(Qimplicita,aspect='auto')\n",
        "plt.colorbar()"
      ],
      "metadata": {
        "colab": {
          "base_uri": "https://localhost:8080/",
          "height": 450
        },
        "id": "9btdy02TQVtL",
        "outputId": "77a6e470-840b-44c6-e7a4-e0654ce56585"
      },
      "execution_count": 27,
      "outputs": [
        {
          "output_type": "execute_result",
          "data": {
            "text/plain": [
              "<matplotlib.colorbar.Colorbar at 0x7f4df8683d60>"
            ]
          },
          "metadata": {},
          "execution_count": 27
        },
        {
          "output_type": "display_data",
          "data": {
            "text/plain": [
              "<Figure size 640x480 with 2 Axes>"
            ],
            "image/png": "[encoded data removed]"
          },
          "metadata": {}
        }
      ]
    },
    {
      "cell_type": "code",
      "source": [
        "Qimplicita.shape"
      ],
      "metadata": {
        "colab": {
          "base_uri": "https://localhost:8080/"
        },
        "id": "mWJi1e4nQjjO",
        "outputId": "90fe8a8f-8d4e-48d2-ceb9-a273e5554d58"
      },
      "execution_count": 28,
      "outputs": [
        {
          "output_type": "execute_result",
          "data": {
            "text/plain": [
              "(100, 60)"
            ]
          },
          "metadata": {},
          "execution_count": 28
        }
      ]
    },
    {
      "cell_type": "code",
      "source": [
        "import matplotlib.pyplot as plt\n",
        "\n",
        "imgplot = plt.imshow(Pimplicita,aspect='auto')\n",
        "plt.colorbar()"
      ],
      "metadata": {
        "colab": {
          "base_uri": "https://localhost:8080/",
          "height": 452
        },
        "id": "j_dIoqPmQlXw",
        "outputId": "a28ff55a-b7c5-40b0-905b-108b749a9ffd"
      },
      "execution_count": 29,
      "outputs": [
        {
          "output_type": "execute_result",
          "data": {
            "text/plain": [
              "<matplotlib.colorbar.Colorbar at 0x7f4df856a3e0>"
            ]
          },
          "metadata": {},
          "execution_count": 29
        },
        {
          "output_type": "display_data",
          "data": {
            "text/plain": [
              "<Figure size 640x480 with 2 Axes>"
            ],
            "image/png": "[encoded data removed]"
          },
          "metadata": {}
        }
      ]
    }
  ]
}