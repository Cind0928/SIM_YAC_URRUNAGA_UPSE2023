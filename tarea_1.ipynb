{
  "nbformat": 4,
  "nbformat_minor": 0,
  "metadata": {
    "colab": {
      "provenance": [],
      "authorship_tag": "ABX9TyNTmUFjjdELRxHzdVyzUT+F",
      "include_colab_link": true
    },
    "kernelspec": {
      "name": "python3",
      "display_name": "Python 3"
    },
    "language_info": {
      "name": "python"
    }
  },
  "cells": [
    {
      "cell_type": "markdown",
      "metadata": {
        "id": "view-in-github",
        "colab_type": "text"
      },
      "source": [
        "<a href=\"https://colab.research.google.com/github/Cind0928/SIM_YAC_URRUNAGA_UPSE2023/blob/main/tarea_1.ipynb\" target=\"_parent\"><img src=\"https://colab.research.google.com/assets/colab-badge.svg\" alt=\"Open In Colab\"/></a>"
      ]
    },
    {
      "cell_type": "code",
      "execution_count": 1,
      "metadata": {
        "id": "DAAC7cBNCrj4"
      },
      "outputs": [],
      "source": [
        "import numpy as np\n",
        "import matplotlib.pyplot as plt\n",
        "import math"
      ]
    },
    {
      "cell_type": "code",
      "source": [
        "longitudT=1000\n",
        "dx=100"
      ],
      "metadata": {
        "id": "UeoTiJkFDUZw"
      },
      "execution_count": 2,
      "outputs": []
    },
    {
      "cell_type": "code",
      "source": [
        "VecDistancia=np.arange(0,longitudT+1,dx)\n",
        "Pini=np.ones_like(VecDistancia)"
      ],
      "metadata": {
        "id": "y4rvePzODlaK"
      },
      "execution_count": 3,
      "outputs": []
    },
    {
      "cell_type": "code",
      "source": [
        "Pyac=4000\n",
        "PFrontd=0 #Frontera derecha\n",
        "PFronti=0 #Frontera izquierda\n",
        "dt=2000\n",
        "tf=20000\n"
      ],
      "metadata": {
        "id": "RUj-Mq3FEFxB"
      },
      "execution_count": 4,
      "outputs": []
    },
    {
      "cell_type": "code",
      "source": [
        "VecTiempo=np.arange(0,math.floor(tf/dt)*dt,dt) #Crearun vector de tiempos\n",
        "Matriz=np.zeros((math.floor(tf/dt),len(VecDistancia)))#LLENA LA MATRIZ DE CEROS\n",
        "Pdt=np.zeros_like(VecDistancia)"
      ],
      "metadata": {
        "id": "bYDFyUZBE_mT"
      },
      "execution_count": 8,
      "outputs": []
    },
    {
      "cell_type": "code",
      "source": [
        "Pini=np.ones_like(VecDistancia)\n",
        "Pini=Pini*Pyac\n",
        "Pini[len(Pini)-1]=PFrontd\n",
        "P0ini=Pini #Condicion inicial\n",
        "Pdt=Pini #Vector de resultados dt\n",
        "t=dt #primera interaccion\n"
      ],
      "metadata": {
        "id": "wQsNAxxVHJwY"
      },
      "execution_count": 9,
      "outputs": []
    },
    {
      "cell_type": "code",
      "source": [
        "def Presdt(P1,P2,P3,deltat,deltax):\n",
        "  return(((P1-2*P2+P3)/(deltax*deltax))*deltat)+P2"
      ],
      "metadata": {
        "id": "UsKNQMeRIXW1"
      },
      "execution_count": 10,
      "outputs": []
    },
    {
      "cell_type": "code",
      "source": [
        "Matriz[0]=Pini\n",
        "while t<tf:\n",
        "    for i in range(0,len(P0ini)-1):\n",
        "       if i==0:\n",
        "          Pdt[i]=P0ini[0]\n",
        "       elif i==len(P0ini)-1:\n",
        "          Pdt[i]=P0ini[len(P0ini)-1]\n",
        "       else:\n",
        "          Pdt[i]=Presdt(P0ini[i-1],P0ini[i],P0ini[i+1],dt,dx)\n",
        "    Matriz[math.floor(t/dt)]=Pdt\n",
        "    t=t+dt\n",
        "    P0ini=Pdt\n",
        "    Pini=np.append(Pini,Pdt)\n",
        "\n",
        "  Matriz\n"
      ],
      "metadata": {
        "id": "yynW1Ia5J1yG"
      },
      "execution_count": null,
      "outputs": []
    }
  ]
}